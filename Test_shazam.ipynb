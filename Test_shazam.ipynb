{
 "cells": [
  {
   "cell_type": "code",
   "execution_count": 1,
   "id": "c95a3598",
   "metadata": {},
   "outputs": [
    {
     "name": "stdout",
     "output_type": "stream",
     "text": [
      "{\"message\":\"Endpoint '\\/songs\\/detect' does not exist\"}\n"
     ]
    }
   ],
   "source": [
    "import requests\n",
    "url = \"https://shazam.p.rapidapi.com/songs/detect\"\n",
    "querystring = {\"term\":\"kiss the\",\"locale\":\"en-US\"}\n",
    "headers = {\n",
    "'x-rapidapi-key': \"786944f8a0msha79d40fa27c1b9ep12b8dfjsnc52800e47c0d\",\n",
    "'x-rapidapi-host': \"shazam.p.rapidapi.com\"\n",
    "}\n",
    "response = requests.request(\"GET\", url, headers=headers, params=querystring)\n",
    "print(response.text)\n"
   ]
  },
  {
   "cell_type": "code",
   "execution_count": 2,
   "id": "227443fb",
   "metadata": {},
   "outputs": [],
   "source": [
    "from pydub import AudioSegment\n"
   ]
  },
  {
   "cell_type": "code",
   "execution_count": 3,
   "id": "1ecf5269",
   "metadata": {},
   "outputs": [],
   "source": [
    "from pydub.utils import which\n",
    "AudioSegment.converter = which(\"ffmpeg\")\n"
   ]
  },
  {
   "cell_type": "code",
   "execution_count": 4,
   "id": "03fc63ea",
   "metadata": {},
   "outputs": [],
   "source": [
    "song = AudioSegment.from_file(\"forestDriveWest_Dualism.mp3\")\n"
   ]
  },
  {
   "cell_type": "code",
   "execution_count": 5,
   "id": "2b6efdd5",
   "metadata": {},
   "outputs": [],
   "source": [
    "startMin = 9\n",
    "startSec = 50\n",
    "\n",
    "endMin = 13\n",
    "endSec = 30\n",
    "\n",
    "# Time to miliseconds\n",
    "startTime = startMin*60*1000+startSec*1000\n",
    "endTime = endMin*60*1000+endSec*1000\n",
    "\n",
    "# Opening file and extracting segment\n",
    "extract = song[startTime:endTime]"
   ]
  },
  {
   "cell_type": "code",
   "execution_count": 6,
   "id": "49964991",
   "metadata": {
    "scrolled": true
   },
   "outputs": [
    {
     "data": {
      "text/plain": [
       "pydub.audio_segment.AudioSegment"
      ]
     },
     "execution_count": 6,
     "metadata": {},
     "output_type": "execute_result"
    }
   ],
   "source": [
    "type(extract)"
   ]
  },
  {
   "cell_type": "code",
   "execution_count": 7,
   "id": "9f5416d9-acb3-4365-802b-d60624743efa",
   "metadata": {},
   "outputs": [],
   "source": [
    "file_name='test'"
   ]
  },
  {
   "cell_type": "code",
   "execution_count": 8,
   "id": "7f763f76",
   "metadata": {},
   "outputs": [
    {
     "data": {
      "text/plain": [
       "<_io.BufferedRandom name='test-extract.mp3'>"
      ]
     },
     "execution_count": 8,
     "metadata": {},
     "output_type": "execute_result"
    }
   ],
   "source": [
    "# Saving\n",
    "extract.export( file_name + '-extract.mp3', format=\"mp3\")"
   ]
  },
  {
   "cell_type": "markdown",
   "id": "00af6102",
   "metadata": {},
   "source": [
    "# Shazam IO"
   ]
  },
  {
   "cell_type": "code",
   "execution_count": 9,
   "id": "697c2ee4",
   "metadata": {},
   "outputs": [
    {
     "ename": "RuntimeError",
     "evalue": "This event loop is already running",
     "output_type": "error",
     "traceback": [
      "\u001b[0;31m---------------------------------------------------------------------------\u001b[0m",
      "\u001b[0;31mRuntimeError\u001b[0m                              Traceback (most recent call last)",
      "Cell \u001b[0;32mIn[9], line 11\u001b[0m\n\u001b[1;32m      8\u001b[0m     \u001b[38;5;28mprint\u001b[39m(out)\n\u001b[1;32m     10\u001b[0m loop \u001b[38;5;241m=\u001b[39m asyncio\u001b[38;5;241m.\u001b[39mget_event_loop()\n\u001b[0;32m---> 11\u001b[0m \u001b[43mloop\u001b[49m\u001b[38;5;241;43m.\u001b[39;49m\u001b[43mrun_until_complete\u001b[49m\u001b[43m(\u001b[49m\u001b[43mmain\u001b[49m\u001b[43m(\u001b[49m\u001b[43m)\u001b[49m\u001b[43m)\u001b[49m\n",
      "File \u001b[0;32m/Library/Developer/CommandLineTools/Library/Frameworks/Python3.framework/Versions/3.8/lib/python3.8/asyncio/base_events.py:592\u001b[0m, in \u001b[0;36mBaseEventLoop.run_until_complete\u001b[0;34m(self, future)\u001b[0m\n\u001b[1;32m    581\u001b[0m \u001b[38;5;124;03m\"\"\"Run until the Future is done.\u001b[39;00m\n\u001b[1;32m    582\u001b[0m \n\u001b[1;32m    583\u001b[0m \u001b[38;5;124;03mIf the argument is a coroutine, it is wrapped in a Task.\u001b[39;00m\n\u001b[0;32m   (...)\u001b[0m\n\u001b[1;32m    589\u001b[0m \u001b[38;5;124;03mReturn the Future's result, or raise its exception.\u001b[39;00m\n\u001b[1;32m    590\u001b[0m \u001b[38;5;124;03m\"\"\"\u001b[39;00m\n\u001b[1;32m    591\u001b[0m \u001b[38;5;28mself\u001b[39m\u001b[38;5;241m.\u001b[39m_check_closed()\n\u001b[0;32m--> 592\u001b[0m \u001b[38;5;28;43mself\u001b[39;49m\u001b[38;5;241;43m.\u001b[39;49m\u001b[43m_check_running\u001b[49m\u001b[43m(\u001b[49m\u001b[43m)\u001b[49m\n\u001b[1;32m    594\u001b[0m new_task \u001b[38;5;241m=\u001b[39m \u001b[38;5;129;01mnot\u001b[39;00m futures\u001b[38;5;241m.\u001b[39misfuture(future)\n\u001b[1;32m    595\u001b[0m future \u001b[38;5;241m=\u001b[39m tasks\u001b[38;5;241m.\u001b[39mensure_future(future, loop\u001b[38;5;241m=\u001b[39m\u001b[38;5;28mself\u001b[39m)\n",
      "File \u001b[0;32m/Library/Developer/CommandLineTools/Library/Frameworks/Python3.framework/Versions/3.8/lib/python3.8/asyncio/base_events.py:552\u001b[0m, in \u001b[0;36mBaseEventLoop._check_running\u001b[0;34m(self)\u001b[0m\n\u001b[1;32m    550\u001b[0m \u001b[38;5;28;01mdef\u001b[39;00m \u001b[38;5;21m_check_running\u001b[39m(\u001b[38;5;28mself\u001b[39m):\n\u001b[1;32m    551\u001b[0m     \u001b[38;5;28;01mif\u001b[39;00m \u001b[38;5;28mself\u001b[39m\u001b[38;5;241m.\u001b[39mis_running():\n\u001b[0;32m--> 552\u001b[0m         \u001b[38;5;28;01mraise\u001b[39;00m \u001b[38;5;167;01mRuntimeError\u001b[39;00m(\u001b[38;5;124m'\u001b[39m\u001b[38;5;124mThis event loop is already running\u001b[39m\u001b[38;5;124m'\u001b[39m)\n\u001b[1;32m    553\u001b[0m     \u001b[38;5;28;01mif\u001b[39;00m events\u001b[38;5;241m.\u001b[39m_get_running_loop() \u001b[38;5;129;01mis\u001b[39;00m \u001b[38;5;129;01mnot\u001b[39;00m \u001b[38;5;28;01mNone\u001b[39;00m:\n\u001b[1;32m    554\u001b[0m         \u001b[38;5;28;01mraise\u001b[39;00m \u001b[38;5;167;01mRuntimeError\u001b[39;00m(\n\u001b[1;32m    555\u001b[0m             \u001b[38;5;124m'\u001b[39m\u001b[38;5;124mCannot run the event loop while another loop is running\u001b[39m\u001b[38;5;124m'\u001b[39m)\n",
      "\u001b[0;31mRuntimeError\u001b[0m: This event loop is already running"
     ]
    }
   ],
   "source": [
    "import asyncio\n",
    "from shazamio import Shazam\n",
    "\n",
    "\n",
    "async def main():\n",
    "    shazam = Shazam()\n",
    "    out = await shazam.recognize_song(\"forestDriveWest_Dualism.mp3\")\n",
    "    print(out)\n",
    "\n",
    "loop = asyncio.get_event_loop()\n",
    "loop.run_until_complete(main())"
   ]
  },
  {
   "cell_type": "code",
   "execution_count": 7,
   "id": "9684276e-ad63-490b-a449-552c78832d7b",
   "metadata": {},
   "outputs": [],
   "source": [
    "res = {'matches': [{'id': '554224363', 'offset': 233.94371875, 'timeskew': 3.5643578e-05, 'frequencyskew': -0.00016111135}], 'location': {'accuracy': 0.01}, 'timestamp': 1672825149650, 'timezone': 'Europe/Moscow', 'track': {'layout': '5', 'type': 'MUSIC', 'key': '554224363', 'title': 'Dualism', 'subtitle': 'Forest Drive West', 'images': {'background': 'https://is2-ssl.mzstatic.com/image/thumb/Music124/v4/88/bd/32/88bd32c0-4cc2-2c89-0c09-39778f4b38dd/3663729145727_cover.jpg/400x400cc.jpg', 'coverart': 'https://is2-ssl.mzstatic.com/image/thumb/Music124/v4/88/bd/32/88bd32c0-4cc2-2c89-0c09-39778f4b38dd/3663729145727_cover.jpg/400x400cc.jpg', 'coverarthq': 'https://is2-ssl.mzstatic.com/image/thumb/Music124/v4/88/bd/32/88bd32c0-4cc2-2c89-0c09-39778f4b38dd/3663729145727_cover.jpg/400x400cc.jpg', 'joecolor': 'b:dfe9e1p:580e11s:333327t:733a3bq:55574c'}, 'share': {'subject': 'Dualism - Forest Drive West', 'text': 'I used Shazam to discover Dualism by Forest Drive West.', 'href': 'https://www.shazam.com/track/554224363/dualism', 'image': 'https://is2-ssl.mzstatic.com/image/thumb/Music124/v4/88/bd/32/88bd32c0-4cc2-2c89-0c09-39778f4b38dd/3663729145727_cover.jpg/400x400cc.jpg', 'twitter': 'I used @Shazam to discover Dualism by Forest Drive West.', 'html': 'https://www.shazam.com/snippets/email-share/554224363?lang=en&country=GB', 'snapchat': 'https://www.shazam.com/partner/sc/track/554224363'}, 'hub': {'type': 'APPLEMUSIC', 'image': 'https://images.shazam.com/static/icons/hub/ios/v5/applemusic_{scalefactor}.png', 'actions': [{'name': 'apple', 'type': 'applemusicplay', 'id': '1550119099'}, {'name': 'apple', 'type': 'uri', 'uri': 'https://audio-ssl.itunes.apple.com/itunes-assets/AudioPreview114/v4/22/f5/30/22f5307c-343c-4d3c-ee28-2b5f0e9b9958/mzaf_12093525117448623225.plus.aac.ep.m4a'}], 'options': [{'caption': 'OPEN IN', 'actions': [{'name': 'hub:applemusic:deeplink', 'type': 'applemusicopen', 'uri': 'https://music.apple.com/gb/album/dualism/1550118482?i=1550119099&mttnagencyid=s2n&mttnsiteid=125115&mttn3pid=Apple-Shazam&mttnsub1=Shazam_ios&mttnsub2=5348615A-616D-3235-3830-44754D6D5973&itscg=30201&app=music&itsct=Shazam_ios'}, {'name': 'hub:applemusic:deeplink', 'type': 'uri', 'uri': 'https://music.apple.com/gb/album/dualism/1550118482?i=1550119099&mttnagencyid=s2n&mttnsiteid=125115&mttn3pid=Apple-Shazam&mttnsub1=Shazam_ios&mttnsub2=5348615A-616D-3235-3830-44754D6D5973&itscg=30201&app=music&itsct=Shazam_ios'}], 'beacondata': {'type': 'open', 'providername': 'applemusic'}, 'image': 'https://images.shazam.com/static/icons/hub/ios/v5/overflow-open-option_{scalefactor}.png', 'type': 'open', 'listcaption': 'Open in Apple Music', 'overflowimage': 'https://images.shazam.com/static/icons/hub/ios/v5/applemusic-overflow_{scalefactor}.png', 'colouroverflowimage': False, 'providername': 'applemusic'}, {'caption': 'BUY', 'actions': [{'type': 'uri', 'uri': 'https://itunes.apple.com/gb/album/dualism/1550118482?i=1550119099&mttnagencyid=s2n&mttnsiteid=125115&mttn3pid=Apple-Shazam&mttnsub1=Shazam_ios&mttnsub2=5348615A-616D-3235-3830-44754D6D5973&itscg=30201&app=itunes&itsct=Shazam_ios'}], 'beacondata': {'type': 'buy', 'providername': 'itunes'}, 'image': 'https://images.shazam.com/static/icons/hub/ios/v5/itunes-overflow-buy_{scalefactor}.png', 'type': 'buy', 'listcaption': 'Buy on iTunes', 'overflowimage': 'https://images.shazam.com/static/icons/hub/ios/v5/itunes-overflow-buy_{scalefactor}.png', 'colouroverflowimage': False, 'providername': 'itunes'}], 'providers': [{'caption': 'Open in Spotify', 'images': {'overflow': 'https://images.shazam.com/static/icons/hub/ios/v5/spotify-overflow_{scalefactor}.png', 'default': 'https://images.shazam.com/static/icons/hub/ios/v5/spotify_{scalefactor}.png'}, 'actions': [{'name': 'hub:spotify:searchdeeplink', 'type': 'uri', 'uri': 'spotify:search:Dualism%20Forest%20Drive%20West'}], 'type': 'SPOTIFY'}, {'caption': 'Open in Deezer', 'images': {'overflow': 'https://images.shazam.com/static/icons/hub/ios/v5/deezer-overflow_{scalefactor}.png', 'default': 'https://images.shazam.com/static/icons/hub/ios/v5/deezer_{scalefactor}.png'}, 'actions': [{'name': 'hub:deezer:searchdeeplink', 'type': 'uri', 'uri': 'deezer-query://www.deezer.com/play?query=%7Btrack%3A%27Dualism%27%20artist%3A%27Forest+Drive+West%27%7D'}], 'type': 'DEEZER'}], 'explicit': False, 'displayname': 'APPLE MUSIC'}, 'sections': [{'type': 'SONG', 'metapages': [{'image': 'https://is2-ssl.mzstatic.com/image/thumb/Music124/v4/88/bd/32/88bd32c0-4cc2-2c89-0c09-39778f4b38dd/3663729145727_cover.jpg/400x400cc.jpg', 'caption': 'Dualism'}], 'tabname': 'Song', 'metadata': [{'title': 'Album', 'text': 'Dualism - EP'}, {'title': 'Label', 'text': 'Livity Sound Recordings'}, {'title': 'Released', 'text': '2021'}]}, {'type': 'VIDEO', 'tabname': 'Video', 'youtubeurl': 'https://cdn.shazam.com/video/v3/-/GB/iphone/554224363/youtube/video?q=Forest+Drive+West+%22Dualism%22'}, {'type': 'RELATED', 'url': 'https://cdn.shazam.com/shazam/v3/en/GB/iphone/-/tracks/track-similarities-id-554224363?startFrom=0&pageSize=20&connected=', 'tabname': 'Related'}], 'url': 'https://www.shazam.com/track/554224363/dualism', 'artists': [{'id': '42', 'adamid': '1100206690'}], 'isrc': 'GBRYX2100292', 'genres': {'primary': 'Electronic'}, 'urlparams': {'{tracktitle}': 'Dualism', '{trackartist}': 'Forest+Drive+West'}, 'myshazam': {'apple': {'actions': [{'name': 'myshazam:apple', 'type': 'uri', 'uri': 'https://music.apple.com/gb/album/dualism/1550118482?i=1550119099&mttnagencyid=s2n&mttnsiteid=125115&mttn3pid=Apple-Shazam&mttnsub1=Shazam_ios&mttnsub2=5348615A-616D-3235-3830-44754D6D5973&itscg=30201&app=music&itsct=Shazam_ios'}]}}, 'highlightsurls': {'artisthighlightsurl': 'https://cdn.shazam.com/video/v3/en/GB/iphone/1100206690/highlights?affiliate=mttnagencyid%3Ds2n%26mttnsiteid%3D125115%26mttn3pid%3DApple-Shazam%26mttnsub1%3DShazam_ios%26mttnsub2%3D5348615A-616D-3235-3830-44754D6D5973%26itscg%3D30201%26app%3Dmusic%26itsct%3DShazam_ios'}, 'relatedtracksurl': 'https://cdn.shazam.com/shazam/v3/en/GB/iphone/-/tracks/track-similarities-id-554224363?startFrom=0&pageSize=20&connected=', 'albumadamid': '1550118482'}, 'tagid': 'A09674FF-763F-4D59-BB45-4F2FF5583215'}"
   ]
  },
  {
   "cell_type": "code",
   "execution_count": 9,
   "id": "7df15ca2-84a6-450f-8e9a-3ea749268941",
   "metadata": {},
   "outputs": [
    {
     "data": {
      "text/plain": [
       "['matches', 'location', 'timestamp', 'timezone', 'track', 'tagid']"
      ]
     },
     "execution_count": 9,
     "metadata": {},
     "output_type": "execute_result"
    }
   ],
   "source": [
    "[key for key in res]"
   ]
  },
  {
   "cell_type": "code",
   "execution_count": 13,
   "id": "7b274a52-a297-4eb3-a9d6-ad142457abf2",
   "metadata": {},
   "outputs": [
    {
     "data": {
      "text/plain": [
       "(1672825149650, 'Europe/Moscow', 'A09674FF-763F-4D59-BB45-4F2FF5583215')"
      ]
     },
     "execution_count": 13,
     "metadata": {},
     "output_type": "execute_result"
    }
   ],
   "source": [
    "res['timestamp'], res['timezone'], res['tagid']"
   ]
  },
  {
   "cell_type": "code",
   "execution_count": 14,
   "id": "507aaef5-70ea-4145-bf3d-aa8c379c2501",
   "metadata": {},
   "outputs": [
    {
     "data": {
      "text/plain": [
       "{'layout': '5',\n",
       " 'type': 'MUSIC',\n",
       " 'key': '554224363',\n",
       " 'title': 'Dualism',\n",
       " 'subtitle': 'Forest Drive West',\n",
       " 'images': {'background': 'https://is2-ssl.mzstatic.com/image/thumb/Music124/v4/88/bd/32/88bd32c0-4cc2-2c89-0c09-39778f4b38dd/3663729145727_cover.jpg/400x400cc.jpg',\n",
       "  'coverart': 'https://is2-ssl.mzstatic.com/image/thumb/Music124/v4/88/bd/32/88bd32c0-4cc2-2c89-0c09-39778f4b38dd/3663729145727_cover.jpg/400x400cc.jpg',\n",
       "  'coverarthq': 'https://is2-ssl.mzstatic.com/image/thumb/Music124/v4/88/bd/32/88bd32c0-4cc2-2c89-0c09-39778f4b38dd/3663729145727_cover.jpg/400x400cc.jpg',\n",
       "  'joecolor': 'b:dfe9e1p:580e11s:333327t:733a3bq:55574c'},\n",
       " 'share': {'subject': 'Dualism - Forest Drive West',\n",
       "  'text': 'I used Shazam to discover Dualism by Forest Drive West.',\n",
       "  'href': 'https://www.shazam.com/track/554224363/dualism',\n",
       "  'image': 'https://is2-ssl.mzstatic.com/image/thumb/Music124/v4/88/bd/32/88bd32c0-4cc2-2c89-0c09-39778f4b38dd/3663729145727_cover.jpg/400x400cc.jpg',\n",
       "  'twitter': 'I used @Shazam to discover Dualism by Forest Drive West.',\n",
       "  'html': 'https://www.shazam.com/snippets/email-share/554224363?lang=en&country=GB',\n",
       "  'snapchat': 'https://www.shazam.com/partner/sc/track/554224363'},\n",
       " 'hub': {'type': 'APPLEMUSIC',\n",
       "  'image': 'https://images.shazam.com/static/icons/hub/ios/v5/applemusic_{scalefactor}.png',\n",
       "  'actions': [{'name': 'apple', 'type': 'applemusicplay', 'id': '1550119099'},\n",
       "   {'name': 'apple',\n",
       "    'type': 'uri',\n",
       "    'uri': 'https://audio-ssl.itunes.apple.com/itunes-assets/AudioPreview114/v4/22/f5/30/22f5307c-343c-4d3c-ee28-2b5f0e9b9958/mzaf_12093525117448623225.plus.aac.ep.m4a'}],\n",
       "  'options': [{'caption': 'OPEN IN',\n",
       "    'actions': [{'name': 'hub:applemusic:deeplink',\n",
       "      'type': 'applemusicopen',\n",
       "      'uri': 'https://music.apple.com/gb/album/dualism/1550118482?i=1550119099&mttnagencyid=s2n&mttnsiteid=125115&mttn3pid=Apple-Shazam&mttnsub1=Shazam_ios&mttnsub2=5348615A-616D-3235-3830-44754D6D5973&itscg=30201&app=music&itsct=Shazam_ios'},\n",
       "     {'name': 'hub:applemusic:deeplink',\n",
       "      'type': 'uri',\n",
       "      'uri': 'https://music.apple.com/gb/album/dualism/1550118482?i=1550119099&mttnagencyid=s2n&mttnsiteid=125115&mttn3pid=Apple-Shazam&mttnsub1=Shazam_ios&mttnsub2=5348615A-616D-3235-3830-44754D6D5973&itscg=30201&app=music&itsct=Shazam_ios'}],\n",
       "    'beacondata': {'type': 'open', 'providername': 'applemusic'},\n",
       "    'image': 'https://images.shazam.com/static/icons/hub/ios/v5/overflow-open-option_{scalefactor}.png',\n",
       "    'type': 'open',\n",
       "    'listcaption': 'Open in Apple Music',\n",
       "    'overflowimage': 'https://images.shazam.com/static/icons/hub/ios/v5/applemusic-overflow_{scalefactor}.png',\n",
       "    'colouroverflowimage': False,\n",
       "    'providername': 'applemusic'},\n",
       "   {'caption': 'BUY',\n",
       "    'actions': [{'type': 'uri',\n",
       "      'uri': 'https://itunes.apple.com/gb/album/dualism/1550118482?i=1550119099&mttnagencyid=s2n&mttnsiteid=125115&mttn3pid=Apple-Shazam&mttnsub1=Shazam_ios&mttnsub2=5348615A-616D-3235-3830-44754D6D5973&itscg=30201&app=itunes&itsct=Shazam_ios'}],\n",
       "    'beacondata': {'type': 'buy', 'providername': 'itunes'},\n",
       "    'image': 'https://images.shazam.com/static/icons/hub/ios/v5/itunes-overflow-buy_{scalefactor}.png',\n",
       "    'type': 'buy',\n",
       "    'listcaption': 'Buy on iTunes',\n",
       "    'overflowimage': 'https://images.shazam.com/static/icons/hub/ios/v5/itunes-overflow-buy_{scalefactor}.png',\n",
       "    'colouroverflowimage': False,\n",
       "    'providername': 'itunes'}],\n",
       "  'providers': [{'caption': 'Open in Spotify',\n",
       "    'images': {'overflow': 'https://images.shazam.com/static/icons/hub/ios/v5/spotify-overflow_{scalefactor}.png',\n",
       "     'default': 'https://images.shazam.com/static/icons/hub/ios/v5/spotify_{scalefactor}.png'},\n",
       "    'actions': [{'name': 'hub:spotify:searchdeeplink',\n",
       "      'type': 'uri',\n",
       "      'uri': 'spotify:search:Dualism%20Forest%20Drive%20West'}],\n",
       "    'type': 'SPOTIFY'},\n",
       "   {'caption': 'Open in Deezer',\n",
       "    'images': {'overflow': 'https://images.shazam.com/static/icons/hub/ios/v5/deezer-overflow_{scalefactor}.png',\n",
       "     'default': 'https://images.shazam.com/static/icons/hub/ios/v5/deezer_{scalefactor}.png'},\n",
       "    'actions': [{'name': 'hub:deezer:searchdeeplink',\n",
       "      'type': 'uri',\n",
       "      'uri': 'deezer-query://www.deezer.com/play?query=%7Btrack%3A%27Dualism%27%20artist%3A%27Forest+Drive+West%27%7D'}],\n",
       "    'type': 'DEEZER'}],\n",
       "  'explicit': False,\n",
       "  'displayname': 'APPLE MUSIC'},\n",
       " 'sections': [{'type': 'SONG',\n",
       "   'metapages': [{'image': 'https://is2-ssl.mzstatic.com/image/thumb/Music124/v4/88/bd/32/88bd32c0-4cc2-2c89-0c09-39778f4b38dd/3663729145727_cover.jpg/400x400cc.jpg',\n",
       "     'caption': 'Dualism'}],\n",
       "   'tabname': 'Song',\n",
       "   'metadata': [{'title': 'Album', 'text': 'Dualism - EP'},\n",
       "    {'title': 'Label', 'text': 'Livity Sound Recordings'},\n",
       "    {'title': 'Released', 'text': '2021'}]},\n",
       "  {'type': 'VIDEO',\n",
       "   'tabname': 'Video',\n",
       "   'youtubeurl': 'https://cdn.shazam.com/video/v3/-/GB/iphone/554224363/youtube/video?q=Forest+Drive+West+%22Dualism%22'},\n",
       "  {'type': 'RELATED',\n",
       "   'url': 'https://cdn.shazam.com/shazam/v3/en/GB/iphone/-/tracks/track-similarities-id-554224363?startFrom=0&pageSize=20&connected=',\n",
       "   'tabname': 'Related'}],\n",
       " 'url': 'https://www.shazam.com/track/554224363/dualism',\n",
       " 'artists': [{'id': '42', 'adamid': '1100206690'}],\n",
       " 'isrc': 'GBRYX2100292',\n",
       " 'genres': {'primary': 'Electronic'},\n",
       " 'urlparams': {'{tracktitle}': 'Dualism',\n",
       "  '{trackartist}': 'Forest+Drive+West'},\n",
       " 'myshazam': {'apple': {'actions': [{'name': 'myshazam:apple',\n",
       "     'type': 'uri',\n",
       "     'uri': 'https://music.apple.com/gb/album/dualism/1550118482?i=1550119099&mttnagencyid=s2n&mttnsiteid=125115&mttn3pid=Apple-Shazam&mttnsub1=Shazam_ios&mttnsub2=5348615A-616D-3235-3830-44754D6D5973&itscg=30201&app=music&itsct=Shazam_ios'}]}},\n",
       " 'highlightsurls': {'artisthighlightsurl': 'https://cdn.shazam.com/video/v3/en/GB/iphone/1100206690/highlights?affiliate=mttnagencyid%3Ds2n%26mttnsiteid%3D125115%26mttn3pid%3DApple-Shazam%26mttnsub1%3DShazam_ios%26mttnsub2%3D5348615A-616D-3235-3830-44754D6D5973%26itscg%3D30201%26app%3Dmusic%26itsct%3DShazam_ios'},\n",
       " 'relatedtracksurl': 'https://cdn.shazam.com/shazam/v3/en/GB/iphone/-/tracks/track-similarities-id-554224363?startFrom=0&pageSize=20&connected=',\n",
       " 'albumadamid': '1550118482'}"
      ]
     },
     "execution_count": 14,
     "metadata": {},
     "output_type": "execute_result"
    }
   ],
   "source": [
    "res['track']"
   ]
  },
  {
   "cell_type": "code",
   "execution_count": 17,
   "id": "192ba95a-dd69-4bfc-8446-f36ff4ccf3a9",
   "metadata": {},
   "outputs": [
    {
     "data": {
      "text/plain": [
       "('Dualism', 'Forest Drive West')"
      ]
     },
     "execution_count": 17,
     "metadata": {},
     "output_type": "execute_result"
    }
   ],
   "source": [
    "res['track']['title'], res['track']['subtitle']\n",
    "                           "
   ]
  },
  {
   "cell_type": "code",
   "execution_count": 10,
   "id": "f57bb29f-f8fc-4148-9453-d2fb2ff322d2",
   "metadata": {},
   "outputs": [
    {
     "data": {
      "text/plain": [
       "{'accuracy': 0.01}"
      ]
     },
     "execution_count": 10,
     "metadata": {},
     "output_type": "execute_result"
    }
   ],
   "source": [
    "res['location']"
   ]
  },
  {
   "cell_type": "code",
   "execution_count": 8,
   "id": "fd5b8dcb-86c0-4015-a616-27f1a0dce178",
   "metadata": {},
   "outputs": [
    {
     "data": {
      "text/plain": [
       "[{'id': '554224363',\n",
       "  'offset': 233.94371875,\n",
       "  'timeskew': 3.5643578e-05,\n",
       "  'frequencyskew': -0.00016111135}]"
      ]
     },
     "execution_count": 8,
     "metadata": {},
     "output_type": "execute_result"
    }
   ],
   "source": [
    "res['matches']"
   ]
  },
  {
   "cell_type": "code",
   "execution_count": null,
   "id": "72e0808e",
   "metadata": {},
   "outputs": [],
   "source": []
  }
 ],
 "metadata": {
  "kernelspec": {
   "display_name": "autoshazam",
   "language": "python",
   "name": "autoshazam"
  },
  "language_info": {
   "codemirror_mode": {
    "name": "ipython",
    "version": 3
   },
   "file_extension": ".py",
   "mimetype": "text/x-python",
   "name": "python",
   "nbconvert_exporter": "python",
   "pygments_lexer": "ipython3",
   "version": "3.8.9"
  }
 },
 "nbformat": 4,
 "nbformat_minor": 5
}
